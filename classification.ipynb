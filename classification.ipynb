{
 "cells": [
  {
   "cell_type": "markdown",
   "metadata": {},
   "source": [
    "# Different Classification Models from ISLP"
   ]
  },
  {
   "cell_type": "markdown",
   "metadata": {},
   "source": [
    "Below we will use preform different classificaiton methods using the Smakret dataset, which is loaded from the ISLP Package. The SMarket dataset contains daily percentage return for the S&P 500 stock index between 2001 and 2005. \n",
    "\n",
    "Below is information for each feature variables.\n",
    "\n",
    "    Year: The year that the observation was recorded\n",
    "    Lag1: Percentage return for previous day\n",
    "    Lag2: Percentage return for 2 days previous\n",
    "    Lag3: Percentage return for 3 days previous\n",
    "    Lag4: Percentage return for 4 days previous\n",
    "    Lag5: Percentage return for 5 days previous\n",
    "    Volume: Volume of shares traded (number of daily shares traded in billions)\n",
    "    Today: Percentage return for today\n",
    "\n",
    "Here is the information for target variable.\n",
    "\n",
    "    Direction: A factor with levels ‘Down’ and ‘Up’ indicating whether the market had a positive or negative return on a given day\n",
    "\n",
    "For the full documentation on this dataset click on this link: [Smarket Dataset](https://islp.readthedocs.io/en/latest/datasets/Smarket.html)"
   ]
  },
  {
   "cell_type": "code",
   "execution_count": 118,
   "metadata": {},
   "outputs": [],
   "source": [
    "import numpy as np\n",
    "import pandas as pd\n",
    "import matplotlib.pyplot as plt\n",
    "import statsmodels.api as sm\n",
    "\n",
    "import warnings\n",
    "\n",
    "from ISLP import load_data"
   ]
  },
  {
   "cell_type": "code",
   "execution_count": 203,
   "metadata": {},
   "outputs": [],
   "source": [
    "from ISLP import confusion_table\n",
    "from ISLP.models import contrast\n",
    "from sklearn.discriminant_analysis import (LinearDiscriminantAnalysis as LDA,\n",
    "                                           QuadraticDiscriminantAnalysis as QDA)\n",
    "from sklearn.naive_bayes import GaussianNB\n",
    "from sklearn.neighbors import KNeighborsClassifier\n",
    "from sklearn.preprocessing import StandardScaler\n",
    "from sklearn.model_selection import train_test_split\n",
    "from sklearn.linear_model import LogisticRegression\n",
    "from sklearn.metrics import accuracy_score, recall_score, precision_score, confusion_matrix, ConfusionMatrixDisplay"
   ]
  },
  {
   "cell_type": "markdown",
   "metadata": {},
   "source": [
    "Let's start with importing the data from ISLP, and inspecting the data. We will also preform some pre-processing and split the data for analysis. Then let's create a logisitc regression classifier and examine some of the results. "
   ]
  },
  {
   "cell_type": "markdown",
   "metadata": {},
   "source": [
    "#### Pre-Processing the Data"
   ]
  },
  {
   "cell_type": "code",
   "execution_count": 183,
   "metadata": {},
   "outputs": [],
   "source": [
    "# Loading the Dataset\n",
    "Smarket = load_data('Smarket')\n",
    "\n",
    "# Definine the features and target variables.\n",
    "X = Smarket[Smarket.columns.drop(['Direction', 'Today', 'Year'])]\n",
    "y = Smarket.Direction\n",
    "\n",
    "# Define the split critera\n",
    "train = Smarket.Year < 2005\n",
    "test = ~train\n",
    "\n",
    "# Train Test Split\n",
    "X_train, y_train = X[train], y[train]\n",
    "X_test, y_test = X[test], y[test]\n",
    "\n",
    "# Make Sure the Data is Represented in Numerical Form\n",
    "y_train = np.where(y_train == 'Up',0, 1)\n",
    "y_test = np.where(y_test == 'Up',0 ,1)\n",
    "\n",
    "# Function for feature standardization\n",
    "def scaled_features(X:np.array, add_constant = False, data_library = 'sklearn') -> np.array:\n",
    "    \"\"\" Returns a standardized np.array of features\n",
    "\n",
    "    Args:\n",
    "        X (np.array): Features\n",
    "        add_constant (bool, optional): Add constant, which is needed for statsmodels. Defaults to False.\n",
    "        output_format (str, optional): Must be sklearn or statsmodels, output the features as numpy array or \n",
    "            pandas dataframe depending on the model, and automaticall adds constant if data_libary == \"statsmodel\"\n",
    "\n",
    "    Returns:\n",
    "        np.array: Standardized features, scaled to zero mean and unit variance.\n",
    "    \"\"\"\n",
    "    \n",
    "    if not isinstance(data_library, str):\n",
    "        raise TypeError(f'add_constant must be a bool. {add_constant} is not a valid input')\n",
    "    \n",
    "    if data_library not in ['sklearn', 'statsmodels']:\n",
    "        warnings.warn(f'data_library not recognized. Must be \"sklearn\" or \"statsmodels\". Defaulting to \"sklearn')\n",
    "        output_format = 'statsmodels'\n",
    "    \n",
    "    X_columns = X.columns\n",
    "    scaler = StandardScaler()\n",
    "    X_scaled = scaler.fit_transform(X)\n",
    "    \n",
    "    if add_constant:\n",
    "        X_scaled = sm.add_constant(X_scaled)\n",
    "        \n",
    "    if data_library == \"statsmodels\":\n",
    "        X_scaled = pd.DataFrame(X_scaled, columns = X_columns)\n",
    "        X_scaled = sm.add_constant(X_scaled)\n",
    "            \n",
    "    return X_scaled"
   ]
  },
  {
   "cell_type": "markdown",
   "metadata": {},
   "source": [
    "#### Logitic Regression Classifer"
   ]
  },
  {
   "cell_type": "code",
   "execution_count": 185,
   "metadata": {},
   "outputs": [],
   "source": [
    "# Scikit Classifier\n",
    "skl_classificaiton_model = LogisticRegression().fit(X_train, y_train)\n",
    "\n",
    "# StatsModels Classifier\n",
    "stm_classification_model = sm.GLM(y_train, scaled_features(X_train, data_library = \"statsmodels\"), family = sm.families.Binomial()).fit()"
   ]
  },
  {
   "cell_type": "markdown",
   "metadata": {},
   "source": [
    "#### Evaluation"
   ]
  },
  {
   "cell_type": "code",
   "execution_count": null,
   "metadata": {},
   "outputs": [
    {
     "name": "stdout",
     "output_type": "stream",
     "text": [
      "                 Generalized Linear Model Regression Results                  \n",
      "==============================================================================\n",
      "Dep. Variable:                      y   No. Observations:                  998\n",
      "Model:                            GLM   Df Residuals:                      991\n",
      "Model Family:                Binomial   Df Model:                            6\n",
      "Link Function:                  Logit   Scale:                          1.0000\n",
      "Method:                          IRLS   Log-Likelihood:                -690.55\n",
      "Date:                Sat, 21 Dec 2024   Deviance:                       1381.1\n",
      "Time:                        13:10:52   Pearson chi2:                     998.\n",
      "No. Iterations:                     4   Pseudo R-squ. (CS):           0.002162\n",
      "Covariance Type:            nonrobust                                         \n",
      "==============================================================================\n",
      "                 coef    std err          z      P>|z|      [0.025      0.975]\n",
      "------------------------------------------------------------------------------\n",
      "const         -0.0321      0.063     -0.506      0.613      -0.156       0.092\n",
      "Lag1           0.0666      0.064      1.046      0.295      -0.058       0.191\n",
      "Lag2           0.0563      0.064      0.884      0.377      -0.068       0.181\n",
      "Lag3          -0.0089      0.064     -0.139      0.889      -0.134       0.116\n",
      "Lag4          -0.0079      0.064     -0.125      0.901      -0.133       0.117\n",
      "Lag5           0.0052      0.064      0.083      0.934      -0.119       0.130\n",
      "Volume         0.0311      0.064      0.485      0.628      -0.095       0.157\n",
      "==============================================================================\n"
     ]
    }
   ],
   "source": [
    "# Explore Results fpr StatsModel Classifier\n",
    "print(stm_classification_model.summary())"
   ]
  },
  {
   "cell_type": "code",
   "execution_count": null,
   "metadata": {},
   "outputs": [
    {
     "data": {
      "image/png": "[encoded data removed]",
      "text/plain": [
       "<Figure size 640x480 with 2 Axes>"
      ]
     },
     "metadata": {},
     "output_type": "display_data"
    }
   ],
   "source": [
    "# Predict Probabilities for the StatsModels Classifier\n",
    "y_pred_prob = stm_classification_model.predict(scaled_features(X_test, data_library = \"statsmodels\"))\n",
    "\n",
    "# Convert to Binary Labels\n",
    "threshold = 0.5\n",
    "y_preds = np.where(y_pred_prob > threshold, 0, 1)\n",
    "\n",
    "# Compute Confusion Matrix\n",
    "cm = confusion_matrix(y_test, y_preds)\n",
    "\n",
    "# Display Confusion Matrix for StatsModel Classifer\n",
    "disp = ConfusionMatrixDisplay(cm)\n",
    "disp.plot(cmap = 'Blues')\n",
    "plt.show()"
   ]
  },
  {
   "cell_type": "code",
   "execution_count": 214,
   "metadata": {},
   "outputs": [
    {
     "name": "stdout",
     "output_type": "stream",
     "text": [
      "Accuracy: 0.4563\n"
     ]
    }
   ],
   "source": [
    "accuracy = accuracy_score(y_test, y_preds)\n",
    "\n",
    "print(f'Accuracy: {accuracy:.4f}')\n"
   ]
  },
  {
   "cell_type": "markdown",
   "metadata": {},
   "source": [
    "Evaluating the data we can see that there is about 45% accuracy with logisitc regression. Meaning our model is less accurate than a coin flip. While expected we can certainly see that logistic regression on it's own is not a great model to start with. To continue to improve this let's look to collect some real data and create an autoregressive model."
   ]
  }
 ],
 "metadata": {
  "kernelspec": {
   "display_name": ".venv",
   "language": "python",
   "name": "python3"
  },
  "language_info": {
   "codemirror_mode": {
    "name": "ipython",
    "version": 3
   },
   "file_extension": ".py",
   "mimetype": "text/x-python",
   "name": "python",
   "nbconvert_exporter": "python",
   "pygments_lexer": "ipython3",
   "version": "3.12.3"
  }
 },
 "nbformat": 4,
 "nbformat_minor": 2
}
